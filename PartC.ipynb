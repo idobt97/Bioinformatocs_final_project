{
 "cells": [
  {
   "cell_type": "code",
   "execution_count": 19,
   "metadata": {},
   "outputs": [],
   "source": [
    "from Bio.codonalign.codonseq import CodonSeq, cal_dn_ds\n",
    "import Bio.Data.CodonTable"
   ]
  },
  {
   "cell_type": "markdown",
   "metadata": {},
   "source": [
    "We going to calculate for each codon how many positions can lead to synonymous mutations and how many to non-synonymous mutations. We will use the genetic code to determine the amino acid encoded by each codon. We will then calculate the number of codons that encode the same amino acid as the original codon and the number of codons that encode a different amino acid. Finally, we will calculate the ratio of synonymous to non-synonymous mutations."
   ]
  },
  {
   "cell_type": "code",
   "execution_count": 20,
   "metadata": {},
   "outputs": [
    {
     "name": "stdout",
     "output_type": "stream",
     "text": [
      "Table 1 Standard, SGC0\n",
      "\n",
      "  |  T      |  C      |  A      |  G      |\n",
      "--+---------+---------+---------+---------+--\n",
      "T | TTT F   | TCT S   | TAT Y   | TGT C   | T\n",
      "T | TTC F   | TCC S   | TAC Y   | TGC C   | C\n",
      "T | TTA L   | TCA S   | TAA Stop| TGA Stop| A\n",
      "T | TTG L(s)| TCG S   | TAG Stop| TGG W   | G\n",
      "--+---------+---------+---------+---------+--\n",
      "C | CTT L   | CCT P   | CAT H   | CGT R   | T\n",
      "C | CTC L   | CCC P   | CAC H   | CGC R   | C\n",
      "C | CTA L   | CCA P   | CAA Q   | CGA R   | A\n",
      "C | CTG L(s)| CCG P   | CAG Q   | CGG R   | G\n",
      "--+---------+---------+---------+---------+--\n",
      "A | ATT I   | ACT T   | AAT N   | AGT S   | T\n",
      "A | ATC I   | ACC T   | AAC N   | AGC S   | C\n",
      "A | ATA I   | ACA T   | AAA K   | AGA R   | A\n",
      "A | ATG M(s)| ACG T   | AAG K   | AGG R   | G\n",
      "--+---------+---------+---------+---------+--\n",
      "G | GTT V   | GCT A   | GAT D   | GGT G   | T\n",
      "G | GTC V   | GCC A   | GAC D   | GGC G   | C\n",
      "G | GTA V   | GCA A   | GAA E   | GGA G   | A\n",
      "G | GTG V   | GCG A   | GAG E   | GGG G   | G\n",
      "--+---------+---------+---------+---------+--\n"
     ]
    }
   ],
   "source": [
    "# Import the standard codon table, those are the codons which are used to translate the DNA sequence into amino acids at human cells\n",
    "print(Bio.Data.CodonTable.standard_dna_table)"
   ]
  },
  {
   "cell_type": "code",
   "execution_count": 26,
   "metadata": {},
   "outputs": [
    {
     "name": "stdout",
     "output_type": "stream",
     "text": [
      "TTT -> ATT is a non-synonymous mutation\n",
      "TTT -> CTT is a non-synonymous mutation\n",
      "TTT -> GTT is a non-synonymous mutation\n",
      "TTT -> TAT is a non-synonymous mutation\n",
      "TTT -> TCT is a non-synonymous mutation\n",
      "TTT -> TGT is a non-synonymous mutation\n",
      "TTT -> TTA is a non-synonymous mutation\n",
      "TTT -> TTC is a synonymous mutation\n",
      "TTT -> TTG is a non-synonymous mutation\n",
      "TTC -> ATC is a non-synonymous mutation\n",
      "TTC -> CTC is a non-synonymous mutation\n",
      "TTC -> GTC is a non-synonymous mutation\n",
      "TTC -> TAC is a non-synonymous mutation\n",
      "TTC -> TCC is a non-synonymous mutation\n",
      "TTC -> TGC is a non-synonymous mutation\n",
      "TTC -> TTA is a non-synonymous mutation\n",
      "TTC -> TTG is a non-synonymous mutation\n",
      "TTC -> TTT is a synonymous mutation\n",
      "TTA -> ATA is a non-synonymous mutation\n",
      "TTA -> CTA is a synonymous mutation\n",
      "TTA -> GTA is a non-synonymous mutation\n"
     ]
    },
    {
     "ename": "KeyError",
     "evalue": "'TAA'",
     "output_type": "error",
     "traceback": [
      "\u001b[1;31m---------------------------------------------------------------------------\u001b[0m",
      "\u001b[1;31mKeyError\u001b[0m                                  Traceback (most recent call last)",
      "Cell \u001b[1;32mIn[26], line 12\u001b[0m\n\u001b[0;32m     10\u001b[0m \u001b[38;5;28;01mif\u001b[39;00m codon[i] \u001b[38;5;241m!=\u001b[39m nucleotide:\n\u001b[0;32m     11\u001b[0m     mutated_codon \u001b[38;5;241m=\u001b[39m codon[:i] \u001b[38;5;241m+\u001b[39m nucleotide \u001b[38;5;241m+\u001b[39m codon[i\u001b[38;5;241m+\u001b[39m\u001b[38;5;241m1\u001b[39m:]\n\u001b[1;32m---> 12\u001b[0m     mutated_amino_acid \u001b[38;5;241m=\u001b[39m \u001b[43mBio\u001b[49m\u001b[38;5;241;43m.\u001b[39;49m\u001b[43mData\u001b[49m\u001b[38;5;241;43m.\u001b[39;49m\u001b[43mCodonTable\u001b[49m\u001b[38;5;241;43m.\u001b[39;49m\u001b[43mstandard_dna_table\u001b[49m\u001b[38;5;241;43m.\u001b[39;49m\u001b[43mforward_table\u001b[49m\u001b[43m[\u001b[49m\u001b[43mmutated_codon\u001b[49m\u001b[43m]\u001b[49m\n\u001b[0;32m     13\u001b[0m     \u001b[38;5;28;01mif\u001b[39;00m mutated_amino_acid \u001b[38;5;241m!=\u001b[39m Bio\u001b[38;5;241m.\u001b[39mData\u001b[38;5;241m.\u001b[39mCodonTable\u001b[38;5;241m.\u001b[39mstandard_dna_table\u001b[38;5;241m.\u001b[39mforward_table[codon]:\n\u001b[0;32m     14\u001b[0m         \u001b[38;5;28mprint\u001b[39m(\u001b[38;5;124mf\u001b[39m\u001b[38;5;124m'\u001b[39m\u001b[38;5;132;01m{\u001b[39;00mcodon\u001b[38;5;132;01m}\u001b[39;00m\u001b[38;5;124m -> \u001b[39m\u001b[38;5;132;01m{\u001b[39;00mmutated_codon\u001b[38;5;132;01m}\u001b[39;00m\u001b[38;5;124m is a non-synonymous mutation\u001b[39m\u001b[38;5;124m'\u001b[39m)\n",
      "\u001b[1;31mKeyError\u001b[0m: 'TAA'"
     ]
    }
   ],
   "source": [
    "# For each codon we going to calculate how many positions can lead to synonymous mutations and how many to non-synonymous mutations\n",
    "# We going to examen all possible mutations for each codon and calculate the number of synonymous and non-synonymous mutations\n",
    "# For example, for the codon 'TTC' which codes for the amino acid 'F' (Phenylalanine) we have 9 possible mutations\n",
    "# ATC, CTC, GTC, TAC, TCC, TGC, TTA, TTG which lead to non-synonymous mutations and TTT which leads to a synonymous mutation\n",
    "\n",
    "for codon in Bio.Data.CodonTable.standard_dna_table.forward_table:\n",
    "    nucleotides = ['A', 'C', 'G', 'T']\n",
    "    for i in range(3):\n",
    "        for nucleotide in nucleotides:\n",
    "            if codon[i] != nucleotide:\n",
    "                mutated_codon = codon[:i] + nucleotide + codon[i+1:]\n",
    "                mutated_amino_acid = Bio.Data.CodonTable.standard_dna_table.forward_table[mutated_codon]\n",
    "                if mutated_amino_acid != Bio.Data.CodonTable.standard_dna_table.forward_table[codon]:\n",
    "                    print(f'{codon} -> {mutated_codon} is a non-synonymous mutation')\n",
    "                else:\n",
    "                    print(f'{codon} -> {mutated_codon} is a synonymous mutation')\n",
    "    "
   ]
  }
 ],
 "metadata": {
  "kernelspec": {
   "display_name": ".venv",
   "language": "python",
   "name": "python3"
  },
  "language_info": {
   "codemirror_mode": {
    "name": "ipython",
    "version": 3
   },
   "file_extension": ".py",
   "mimetype": "text/x-python",
   "name": "python",
   "nbconvert_exporter": "python",
   "pygments_lexer": "ipython3",
   "version": "3.11.3"
  }
 },
 "nbformat": 4,
 "nbformat_minor": 2
}
